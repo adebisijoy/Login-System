{
 "cells": [
  {
   "cell_type": "markdown",
   "id": "fbbee60b",
   "metadata": {},
   "source": [
    "## Create a system, that when you want to login, your username and password is being requested, if the details input is incorrect, you shouldn't be able to login"
   ]
  },
  {
   "cell_type": "code",
   "execution_count": 4,
   "id": "77135074",
   "metadata": {},
   "outputs": [],
   "source": [
    "# Users Credentials\n",
    "login = {\n",
    "    'Adams' : 'Progress1234',\n",
    "    'Faithful' : 'tola_456',\n",
    "    'Smart' : 'smart12@gmail.com'\n",
    "}"
   ]
  },
  {
   "cell_type": "code",
   "execution_count": 5,
   "id": "8d614755",
   "metadata": {},
   "outputs": [
    {
     "data": {
      "text/plain": [
       "{'Adams': 'Progress1234', 'Faithful': 'tola_456', 'Smart': 'smart12@gmail.com'}"
      ]
     },
     "execution_count": 5,
     "metadata": {},
     "output_type": "execute_result"
    }
   ],
   "source": [
    "login"
   ]
  },
  {
   "cell_type": "code",
   "execution_count": 11,
   "id": "d6a3b663",
   "metadata": {},
   "outputs": [
    {
     "name": "stdout",
     "output_type": "stream",
     "text": [
      "Enter your username: Smart\n",
      "Enter your password: smart12@gmail.com\n",
      "Login Successful!\n"
     ]
    }
   ],
   "source": [
    "# Login code\n",
    "\n",
    "user_name = str(input(\"Enter your username: \"))\n",
    "password = str(input(\"Enter your password: \"))\n",
    "\n",
    "if user_name in login and login[user_name] == password:\n",
    "    print(\"Login Successful!\")\n",
    "else:\n",
    "    print(\"incorrect username or password\")"
   ]
  },
  {
   "cell_type": "code",
   "execution_count": null,
   "id": "22936ffa",
   "metadata": {},
   "outputs": [],
   "source": []
  },
  {
   "cell_type": "code",
   "execution_count": null,
   "id": "17f46dce",
   "metadata": {},
   "outputs": [],
   "source": []
  },
  {
   "cell_type": "code",
   "execution_count": null,
   "id": "00bf694e",
   "metadata": {},
   "outputs": [],
   "source": []
  },
  {
   "cell_type": "code",
   "execution_count": null,
   "id": "433cb757",
   "metadata": {},
   "outputs": [],
   "source": []
  },
  {
   "cell_type": "code",
   "execution_count": null,
   "id": "ef9b8346",
   "metadata": {},
   "outputs": [],
   "source": []
  },
  {
   "cell_type": "code",
   "execution_count": null,
   "id": "6aeb876a",
   "metadata": {},
   "outputs": [],
   "source": []
  }
 ],
 "metadata": {
  "kernelspec": {
   "display_name": "Python 3 (ipykernel)",
   "language": "python",
   "name": "python3"
  },
  "language_info": {
   "codemirror_mode": {
    "name": "ipython",
    "version": 3
   },
   "file_extension": ".py",
   "mimetype": "text/x-python",
   "name": "python",
   "nbconvert_exporter": "python",
   "pygments_lexer": "ipython3",
   "version": "3.11.5"
  }
 },
 "nbformat": 4,
 "nbformat_minor": 5
}
